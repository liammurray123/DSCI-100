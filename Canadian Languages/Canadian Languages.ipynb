{
 "cells": [
  {
   "cell_type": "code",
   "execution_count": 52,
   "id": "54a4d5ba",
   "metadata": {
    "vscode": {
     "languageId": "r"
    }
   },
   "outputs": [],
   "source": [
    "library(tidyverse)"
   ]
  },
  {
   "cell_type": "code",
   "execution_count": 53,
   "id": "7137e3d7",
   "metadata": {
    "vscode": {
     "languageId": "r"
    }
   },
   "outputs": [
    {
     "name": "stderr",
     "output_type": "stream",
     "text": [
      "\u001b[1mRows: \u001b[22m\u001b[34m214\u001b[39m \u001b[1mColumns: \u001b[22m\u001b[34m6\u001b[39m\n",
      "\u001b[36m──\u001b[39m \u001b[1mColumn specification\u001b[22m \u001b[36m────────────────────────────────────────────────────────\u001b[39m\n",
      "\u001b[1mDelimiter:\u001b[22m \",\"\n",
      "\u001b[31mchr\u001b[39m (2): category, language\n",
      "\u001b[32mdbl\u001b[39m (4): mother_tongue, most_at_home, most_at_work, lang_known\n",
      "\n",
      "\u001b[36mℹ\u001b[39m Use `spec()` to retrieve the full column specification for this data.\n",
      "\u001b[36mℹ\u001b[39m Specify the column types or set `show_col_types = FALSE` to quiet this message.\n"
     ]
    },
    {
     "name": "stdout",
     "output_type": "stream",
     "text": [
      "\u001b[90m# A tibble: 214 × 6\u001b[39m\n",
      "   category          language mother_tongue most_at_home most_at_work lang_known\n",
      "   \u001b[3m\u001b[90m<chr>\u001b[39m\u001b[23m             \u001b[3m\u001b[90m<chr>\u001b[39m\u001b[23m            \u001b[3m\u001b[90m<dbl>\u001b[39m\u001b[23m        \u001b[3m\u001b[90m<dbl>\u001b[39m\u001b[23m        \u001b[3m\u001b[90m<dbl>\u001b[39m\u001b[23m      \u001b[3m\u001b[90m<dbl>\u001b[39m\u001b[23m\n",
      "\u001b[90m 1\u001b[39m Aboriginal langu… Aborigi…           590          235           30        665\n",
      "\u001b[90m 2\u001b[39m Non-Official & N… Afrikaa…         \u001b[4m1\u001b[24m\u001b[4m0\u001b[24m260         \u001b[4m4\u001b[24m785           85      \u001b[4m2\u001b[24m\u001b[4m3\u001b[24m415\n",
      "\u001b[90m 3\u001b[39m Non-Official & N… Afro-As…          \u001b[4m1\u001b[24m150          445           10       \u001b[4m2\u001b[24m775\n",
      "\u001b[90m 4\u001b[39m Non-Official & N… Akan (T…         \u001b[4m1\u001b[24m\u001b[4m3\u001b[24m460         \u001b[4m5\u001b[24m985           25      \u001b[4m2\u001b[24m\u001b[4m2\u001b[24m150\n",
      "\u001b[90m 5\u001b[39m Non-Official & N… Albanian         \u001b[4m2\u001b[24m\u001b[4m6\u001b[24m895        \u001b[4m1\u001b[24m\u001b[4m3\u001b[24m135          345      \u001b[4m3\u001b[24m\u001b[4m1\u001b[24m930\n",
      "\u001b[90m 6\u001b[39m Aboriginal langu… Algonqu…            45           10            0        120\n",
      "\u001b[90m 7\u001b[39m Aboriginal langu… Algonqu…          \u001b[4m1\u001b[24m260          370           40       \u001b[4m2\u001b[24m480\n",
      "\u001b[90m 8\u001b[39m Non-Official & N… America…          \u001b[4m2\u001b[24m685         \u001b[4m3\u001b[24m020         \u001b[4m1\u001b[24m145      \u001b[4m2\u001b[24m\u001b[4m1\u001b[24m930\n",
      "\u001b[90m 9\u001b[39m Non-Official & N… Amharic          \u001b[4m2\u001b[24m\u001b[4m2\u001b[24m465        \u001b[4m1\u001b[24m\u001b[4m2\u001b[24m785          200      \u001b[4m3\u001b[24m\u001b[4m3\u001b[24m670\n",
      "\u001b[90m10\u001b[39m Non-Official & N… Arabic          \u001b[4m4\u001b[24m\u001b[4m1\u001b[24m\u001b[4m9\u001b[24m890       \u001b[4m2\u001b[24m\u001b[4m2\u001b[24m\u001b[4m3\u001b[24m535         \u001b[4m5\u001b[24m585     \u001b[4m6\u001b[24m\u001b[4m2\u001b[24m\u001b[4m9\u001b[24m055\n",
      "\u001b[90m# ℹ 204 more rows\u001b[39m\n"
     ]
    }
   ],
   "source": [
    "can_lang <- read_csv(\"can_lang.csv\")\n",
    "print(can_lang, n=10)"
   ]
  },
  {
   "cell_type": "code",
   "execution_count": 54,
   "id": "1b0caa51",
   "metadata": {
    "vscode": {
     "languageId": "r"
    }
   },
   "outputs": [
    {
     "name": "stdout",
     "output_type": "stream",
     "text": [
      "\u001b[90m# A tibble: 67 × 6\u001b[39m\n",
      "   category          language mother_tongue most_at_home most_at_work lang_known\n",
      "   \u001b[3m\u001b[90m<chr>\u001b[39m\u001b[23m             \u001b[3m\u001b[90m<chr>\u001b[39m\u001b[23m            \u001b[3m\u001b[90m<dbl>\u001b[39m\u001b[23m        \u001b[3m\u001b[90m<dbl>\u001b[39m\u001b[23m        \u001b[3m\u001b[90m<dbl>\u001b[39m\u001b[23m      \u001b[3m\u001b[90m<dbl>\u001b[39m\u001b[23m\n",
      "\u001b[90m 1\u001b[39m Aboriginal langu… Aborigi…           590          235           30        665\n",
      "\u001b[90m 2\u001b[39m Aboriginal langu… Algonqu…            45           10            0        120\n",
      "\u001b[90m 3\u001b[39m Aboriginal langu… Algonqu…          \u001b[4m1\u001b[24m260          370           40       \u001b[4m2\u001b[24m480\n",
      "\u001b[90m 4\u001b[39m Aboriginal langu… Athabas…            50           10            0         85\n",
      "\u001b[90m 5\u001b[39m Aboriginal langu… Atikame…          \u001b[4m6\u001b[24m150         \u001b[4m5\u001b[24m465         \u001b[4m1\u001b[24m100       \u001b[4m6\u001b[24m645\n",
      "\u001b[90m 6\u001b[39m Aboriginal langu… Babine …           110           20           10        210\n",
      "\u001b[90m 7\u001b[39m Aboriginal langu… Beaver             190           50            0        340\n",
      "\u001b[90m 8\u001b[39m Aboriginal langu… Blackfo…          \u001b[4m2\u001b[24m815         \u001b[4m1\u001b[24m110           85       \u001b[4m5\u001b[24m645\n",
      "\u001b[90m 9\u001b[39m Aboriginal langu… Carrier           \u001b[4m1\u001b[24m025          250           15       \u001b[4m2\u001b[24m100\n",
      "\u001b[90m10\u001b[39m Aboriginal langu… Cayuga              45           10           10        125\n",
      "\u001b[90m# ℹ 57 more rows\u001b[39m\n"
     ]
    }
   ],
   "source": [
    "ab_lang <- filter(can_lang, category == \"Aboriginal languages\")\n",
    "print(ab_lang, n=10)"
   ]
  },
  {
   "cell_type": "code",
   "execution_count": 55,
   "id": "c1f4408b",
   "metadata": {
    "vscode": {
     "languageId": "r"
    }
   },
   "outputs": [
    {
     "name": "stdout",
     "output_type": "stream",
     "text": [
      "\u001b[90m# A tibble: 67 × 2\u001b[39m\n",
      "   language                     mother_tongue\n",
      "   \u001b[3m\u001b[90m<chr>\u001b[39m\u001b[23m                                \u001b[3m\u001b[90m<dbl>\u001b[39m\u001b[23m\n",
      "\u001b[90m 1\u001b[39m Aboriginal languages, n.o.s.           590\n",
      "\u001b[90m 2\u001b[39m Algonquian languages, n.i.e.            45\n",
      "\u001b[90m 3\u001b[39m Algonquin                             \u001b[4m1\u001b[24m260\n",
      "\u001b[90m 4\u001b[39m Athabaskan languages, n.i.e.            50\n",
      "\u001b[90m 5\u001b[39m Atikamekw                             \u001b[4m6\u001b[24m150\n",
      "\u001b[90m 6\u001b[39m Babine (Wetsuwet'en)                   110\n",
      "\u001b[90m 7\u001b[39m Beaver                                 190\n",
      "\u001b[90m 8\u001b[39m Blackfoot                             \u001b[4m2\u001b[24m815\n",
      "\u001b[90m 9\u001b[39m Carrier                               \u001b[4m1\u001b[24m025\n",
      "\u001b[90m10\u001b[39m Cayuga                                  45\n",
      "\u001b[90m# ℹ 57 more rows\u001b[39m\n"
     ]
    }
   ],
   "source": [
    "selected_lang <- select(ab_lang, language, mother_tongue)\n",
    "print(selected_lang, n=10)"
   ]
  },
  {
   "cell_type": "code",
   "execution_count": 56,
   "id": "df68269e",
   "metadata": {
    "vscode": {
     "languageId": "r"
    }
   },
   "outputs": [
    {
     "name": "stdout",
     "output_type": "stream",
     "text": [
      "\u001b[90m# A tibble: 67 × 2\u001b[39m\n",
      "   language          mother_tongue\n",
      "   \u001b[3m\u001b[90m<chr>\u001b[39m\u001b[23m                     \u001b[3m\u001b[90m<dbl>\u001b[39m\u001b[23m\n",
      "\u001b[90m 1\u001b[39m Cree, n.o.s.              \u001b[4m6\u001b[24m\u001b[4m4\u001b[24m050\n",
      "\u001b[90m 2\u001b[39m Inuktitut                 \u001b[4m3\u001b[24m\u001b[4m5\u001b[24m210\n",
      "\u001b[90m 3\u001b[39m Ojibway                   \u001b[4m1\u001b[24m\u001b[4m7\u001b[24m885\n",
      "\u001b[90m 4\u001b[39m Oji-Cree                  \u001b[4m1\u001b[24m\u001b[4m2\u001b[24m855\n",
      "\u001b[90m 5\u001b[39m Dene                      \u001b[4m1\u001b[24m\u001b[4m0\u001b[24m700\n",
      "\u001b[90m 6\u001b[39m Montagnais (Innu)         \u001b[4m1\u001b[24m\u001b[4m0\u001b[24m235\n",
      "\u001b[90m 7\u001b[39m Mi'kmaq                    \u001b[4m6\u001b[24m690\n",
      "\u001b[90m 8\u001b[39m Atikamekw                  \u001b[4m6\u001b[24m150\n",
      "\u001b[90m 9\u001b[39m Plains Cree                \u001b[4m3\u001b[24m065\n",
      "\u001b[90m10\u001b[39m Stoney                     \u001b[4m3\u001b[24m025\n",
      "\u001b[90m# ℹ 57 more rows\u001b[39m\n"
     ]
    }
   ],
   "source": [
    "ordered_lang <- arrange(selected_lang, by = desc(mother_tongue))\n",
    "print(ordered_lang, n=10)\n"
   ]
  },
  {
   "cell_type": "code",
   "execution_count": 57,
   "id": "1f6081e1",
   "metadata": {
    "vscode": {
     "languageId": "r"
    }
   },
   "outputs": [
    {
     "data": {
      "text/html": [
       "<table class=\"dataframe\">\n",
       "<caption>A tibble: 10 × 2</caption>\n",
       "<thead>\n",
       "\t<tr><th scope=col>language</th><th scope=col>mother_tongue</th></tr>\n",
       "\t<tr><th scope=col>&lt;chr&gt;</th><th scope=col>&lt;dbl&gt;</th></tr>\n",
       "</thead>\n",
       "<tbody>\n",
       "\t<tr><td>Cree, n.o.s.     </td><td>64050</td></tr>\n",
       "\t<tr><td>Inuktitut        </td><td>35210</td></tr>\n",
       "\t<tr><td>Ojibway          </td><td>17885</td></tr>\n",
       "\t<tr><td>Oji-Cree         </td><td>12855</td></tr>\n",
       "\t<tr><td>Dene             </td><td>10700</td></tr>\n",
       "\t<tr><td>Montagnais (Innu)</td><td>10235</td></tr>\n",
       "\t<tr><td>Mi'kmaq          </td><td> 6690</td></tr>\n",
       "\t<tr><td>Atikamekw        </td><td> 6150</td></tr>\n",
       "\t<tr><td>Plains Cree      </td><td> 3065</td></tr>\n",
       "\t<tr><td>Stoney           </td><td> 3025</td></tr>\n",
       "</tbody>\n",
       "</table>\n"
      ],
      "text/latex": [
       "A tibble: 10 × 2\n",
       "\\begin{tabular}{ll}\n",
       " language & mother\\_tongue\\\\\n",
       " <chr> & <dbl>\\\\\n",
       "\\hline\n",
       "\t Cree, n.o.s.      & 64050\\\\\n",
       "\t Inuktitut         & 35210\\\\\n",
       "\t Ojibway           & 17885\\\\\n",
       "\t Oji-Cree          & 12855\\\\\n",
       "\t Dene              & 10700\\\\\n",
       "\t Montagnais (Innu) & 10235\\\\\n",
       "\t Mi'kmaq           &  6690\\\\\n",
       "\t Atikamekw         &  6150\\\\\n",
       "\t Plains Cree       &  3065\\\\\n",
       "\t Stoney            &  3025\\\\\n",
       "\\end{tabular}\n"
      ],
      "text/markdown": [
       "\n",
       "A tibble: 10 × 2\n",
       "\n",
       "| language &lt;chr&gt; | mother_tongue &lt;dbl&gt; |\n",
       "|---|---|\n",
       "| Cree, n.o.s.      | 64050 |\n",
       "| Inuktitut         | 35210 |\n",
       "| Ojibway           | 17885 |\n",
       "| Oji-Cree          | 12855 |\n",
       "| Dene              | 10700 |\n",
       "| Montagnais (Innu) | 10235 |\n",
       "| Mi'kmaq           |  6690 |\n",
       "| Atikamekw         |  6150 |\n",
       "| Plains Cree       |  3065 |\n",
       "| Stoney            |  3025 |\n",
       "\n"
      ],
      "text/plain": [
       "   language          mother_tongue\n",
       "1  Cree, n.o.s.      64050        \n",
       "2  Inuktitut         35210        \n",
       "3  Ojibway           17885        \n",
       "4  Oji-Cree          12855        \n",
       "5  Dene              10700        \n",
       "6  Montagnais (Innu) 10235        \n",
       "7  Mi'kmaq            6690        \n",
       "8  Atikamekw          6150        \n",
       "9  Plains Cree        3065        \n",
       "10 Stoney             3025        "
      ]
     },
     "metadata": {},
     "output_type": "display_data"
    }
   ],
   "source": [
    "ten_lang <- slice(ordered_lang, 1:10)\n",
    "ten_lang"
   ]
  },
  {
   "cell_type": "code",
   "execution_count": 58,
   "id": "8ae54dc3",
   "metadata": {
    "vscode": {
     "languageId": "r"
    }
   },
   "outputs": [
    {
     "data": {
      "text/html": [
       "<table class=\"dataframe\">\n",
       "<caption>A tibble: 10 × 3</caption>\n",
       "<thead>\n",
       "\t<tr><th scope=col>language</th><th scope=col>mother_tongue</th><th scope=col>mother_tongue_percent</th></tr>\n",
       "\t<tr><th scope=col>&lt;chr&gt;</th><th scope=col>&lt;dbl&gt;</th><th scope=col>&lt;dbl&gt;</th></tr>\n",
       "</thead>\n",
       "<tbody>\n",
       "\t<tr><td>Cree, n.o.s.     </td><td>64050</td><td>0.182210104</td></tr>\n",
       "\t<tr><td>Inuktitut        </td><td>35210</td><td>0.100165773</td></tr>\n",
       "\t<tr><td>Ojibway          </td><td>17885</td><td>0.050879433</td></tr>\n",
       "\t<tr><td>Oji-Cree         </td><td>12855</td><td>0.036570037</td></tr>\n",
       "\t<tr><td>Dene             </td><td>10700</td><td>0.030439471</td></tr>\n",
       "\t<tr><td>Montagnais (Innu)</td><td>10235</td><td>0.029116634</td></tr>\n",
       "\t<tr><td>Mi'kmaq          </td><td> 6690</td><td>0.019031781</td></tr>\n",
       "\t<tr><td>Atikamekw        </td><td> 6150</td><td>0.017495584</td></tr>\n",
       "\t<tr><td>Plains Cree      </td><td> 3065</td><td>0.008719344</td></tr>\n",
       "\t<tr><td>Stoney           </td><td> 3025</td><td>0.008605551</td></tr>\n",
       "</tbody>\n",
       "</table>\n"
      ],
      "text/latex": [
       "A tibble: 10 × 3\n",
       "\\begin{tabular}{lll}\n",
       " language & mother\\_tongue & mother\\_tongue\\_percent\\\\\n",
       " <chr> & <dbl> & <dbl>\\\\\n",
       "\\hline\n",
       "\t Cree, n.o.s.      & 64050 & 0.182210104\\\\\n",
       "\t Inuktitut         & 35210 & 0.100165773\\\\\n",
       "\t Ojibway           & 17885 & 0.050879433\\\\\n",
       "\t Oji-Cree          & 12855 & 0.036570037\\\\\n",
       "\t Dene              & 10700 & 0.030439471\\\\\n",
       "\t Montagnais (Innu) & 10235 & 0.029116634\\\\\n",
       "\t Mi'kmaq           &  6690 & 0.019031781\\\\\n",
       "\t Atikamekw         &  6150 & 0.017495584\\\\\n",
       "\t Plains Cree       &  3065 & 0.008719344\\\\\n",
       "\t Stoney            &  3025 & 0.008605551\\\\\n",
       "\\end{tabular}\n"
      ],
      "text/markdown": [
       "\n",
       "A tibble: 10 × 3\n",
       "\n",
       "| language &lt;chr&gt; | mother_tongue &lt;dbl&gt; | mother_tongue_percent &lt;dbl&gt; |\n",
       "|---|---|---|\n",
       "| Cree, n.o.s.      | 64050 | 0.182210104 |\n",
       "| Inuktitut         | 35210 | 0.100165773 |\n",
       "| Ojibway           | 17885 | 0.050879433 |\n",
       "| Oji-Cree          | 12855 | 0.036570037 |\n",
       "| Dene              | 10700 | 0.030439471 |\n",
       "| Montagnais (Innu) | 10235 | 0.029116634 |\n",
       "| Mi'kmaq           |  6690 | 0.019031781 |\n",
       "| Atikamekw         |  6150 | 0.017495584 |\n",
       "| Plains Cree       |  3065 | 0.008719344 |\n",
       "| Stoney            |  3025 | 0.008605551 |\n",
       "\n"
      ],
      "text/plain": [
       "   language          mother_tongue mother_tongue_percent\n",
       "1  Cree, n.o.s.      64050         0.182210104          \n",
       "2  Inuktitut         35210         0.100165773          \n",
       "3  Ojibway           17885         0.050879433          \n",
       "4  Oji-Cree          12855         0.036570037          \n",
       "5  Dene              10700         0.030439471          \n",
       "6  Montagnais (Innu) 10235         0.029116634          \n",
       "7  Mi'kmaq            6690         0.019031781          \n",
       "8  Atikamekw          6150         0.017495584          \n",
       "9  Plains Cree        3065         0.008719344          \n",
       "10 Stoney             3025         0.008605551          "
      ]
     },
     "metadata": {},
     "output_type": "display_data"
    }
   ],
   "source": [
    "canadian_pop = 35151728\n",
    "ten_lang_with_percent <- mutate(ten_lang, mother_tongue_percent = mother_tongue / canadian_pop * 100)\n",
    "ten_lang_with_percent"
   ]
  },
  {
   "cell_type": "code",
   "execution_count": 65,
   "id": "3d1519b0",
   "metadata": {
    "vscode": {
     "languageId": "r"
    }
   },
   "outputs": [
    {
     "data": {
      "image/png": "[encoded data removed]",
      "text/plain": [
       "plot without title"
      ]
     },
     "metadata": {
      "image/png": {
       "height": 420,
       "width": 420
      }
     },
     "output_type": "display_data"
    }
   ],
   "source": [
    "ggplot(ten_lang, aes(y = reorder(language, mother_tongue), x = mother_tongue)) + \n",
    "    geom_bar(stat=\"identity\") +\n",
    "    ylab(\"Language Spoken\") +\n",
    "    xlab(\"Mother Tongue (Number of Canadian Residents)\") +\n",
    "    theme_minimal()"
   ]
  },
  {
   "cell_type": "code",
   "execution_count": null,
   "id": "e012b274",
   "metadata": {
    "vscode": {
     "languageId": "r"
    }
   },
   "outputs": [],
   "source": []
  }
 ],
 "metadata": {
  "kernelspec": {
   "display_name": "R",
   "language": "R",
   "name": "ir"
  },
  "language_info": {
   "codemirror_mode": "r",
   "file_extension": ".r",
   "mimetype": "text/x-r-source",
   "name": "R",
   "pygments_lexer": "r",
   "version": "4.5.0"
  }
 },
 "nbformat": 4,
 "nbformat_minor": 5
}
